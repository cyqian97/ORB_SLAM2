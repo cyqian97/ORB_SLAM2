{
 "cells": [
  {
   "cell_type": "code",
   "execution_count": 1,
   "id": "3b66d2b0-6862-4f51-a77a-36b5431cc3d1",
   "metadata": {},
   "outputs": [],
   "source": [
    "### Note that the yaml file in ORB-SLAM2 needs to be modified manually according to the camera.json files\n",
    "import os\n",
    "dir_city = '/home/jovyan/work/dataset/Cityscapes/all_demoVideo'\n",
    "dir_kitti = '/home/jovyan/work/dataset/Cityscapes/all_demoVideo_kitti'\n",
    "if not os.path.exists(dir_kitti):\n",
    "    os.mkdir(dir_kitti)"
   ]
  },
  {
   "cell_type": "code",
   "execution_count": 2,
   "id": "4fda9e1a-2448-464f-b294-1344a71e6bc5",
   "metadata": {},
   "outputs": [],
   "source": [
    "# Sequences\n",
    "sequences = os.listdir(dir_city+\"/leftImg8bit/demoVideo\")\n",
    "sequences.sort()\n",
    "for s in sequences:\n",
    "    if not os.path.exists(dir_kitti+\"/\"+s):\n",
    "        os.mkdir(dir_kitti+\"/\"+s)"
   ]
  },
  {
   "cell_type": "code",
   "execution_count": 3,
   "id": "3b22e217-7b01-445b-9cac-c46eb5cca77c",
   "metadata": {},
   "outputs": [],
   "source": [
    "# Timestamps\n",
    "# Kitti use second(s) and Cityscapes use (ns)\n",
    "for s in sequences:\n",
    "    dir_current = dir_city+\"/timestamp/demoVideo/\"+s\n",
    "    if os.path.exists(dir_current):\n",
    "        ts_files = os.listdir(dir_current)\n",
    "        ts_files.sort()\n",
    "        t0 = 0\n",
    "        ts_content = []\n",
    "        with open(dir_current+\"/\"+ts_files[0]) as f_city:\n",
    "            t0 = float(f_city.read())/1e9\n",
    "        \n",
    "        for ts in ts_files:\n",
    "            with open(dir_current+\"/\"+ts) as f_city:\n",
    "                t = float(f_city.read())/1e9-t0\n",
    "                ts_content.append('%.6e\\n'%(t))\n",
    "        with open(dir_kitti+\"/\"+s+\"/times.txt\",'w') as f_kitti:\n",
    "            f_kitti.writelines(ts_content)"
   ]
  },
  {
   "cell_type": "code",
   "execution_count": 6,
   "id": "2869beb1-df10-4095-b06c-0fb5463b89d3",
   "metadata": {},
   "outputs": [
    {
     "name": "stdout",
     "output_type": "stream",
     "text": [
      "stuttgart_00\n",
      "stuttgart_01\n",
      "stuttgart_02\n"
     ]
    }
   ],
   "source": [
    "# Images\n",
    "import cv2\n",
    "for s in sequences:\n",
    "    dir_current = dir_city+\"/leftImg8bit/demoVideo/\"+s\n",
    "    print(s)\n",
    "    if os.path.exists(dir_current):\n",
    "        img_files = os.listdir(dir_current)\n",
    "        img_files.sort()\n",
    "        counter = 0\n",
    "        \n",
    "        if not os.path.exists(dir_kitti+\"/\"+s+\"/image_0\"):\n",
    "            os.mkdir(dir_kitti+\"/\"+s+\"/image_0\")\n",
    "            \n",
    "        for imgf in img_files:\n",
    "            img = cv2.imread(dir_current+\"/\"+imgf)\n",
    "            img_gray = cv2.cvtColor(img, cv2.COLOR_BGR2GRAY)\n",
    "            filename = dir_kitti+\"/\"+s+\"/image_0/\" + '%06d'%(counter)+\".png\"\n",
    "            counter = counter+1\n",
    "            cv2.imwrite(filename,img_gray)\n",
    "            \n",
    "\n",
    "        "
   ]
  },
  {
   "cell_type": "code",
   "execution_count": null,
   "id": "bc13d6e8-d4ac-43a4-a113-14ad5c54b1a2",
   "metadata": {},
   "outputs": [],
   "source": []
  }
 ],
 "metadata": {
  "kernelspec": {
   "display_name": "Python [conda env:mmseg]",
   "language": "python",
   "name": "conda-env-mmseg-py"
  },
  "language_info": {
   "codemirror_mode": {
    "name": "ipython",
    "version": 3
   },
   "file_extension": ".py",
   "mimetype": "text/x-python",
   "name": "python",
   "nbconvert_exporter": "python",
   "pygments_lexer": "ipython3",
   "version": "3.8.13"
  }
 },
 "nbformat": 4,
 "nbformat_minor": 5
}
